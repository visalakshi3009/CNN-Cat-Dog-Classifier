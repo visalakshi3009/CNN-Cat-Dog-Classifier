{
 "cells": [
  {
   "cell_type": "markdown",
   "id": "47b00d40",
   "metadata": {},
   "source": [
    "# CONVOLUTIONAL NEURAL NETWORK TO CLASSIFY CATS AND DOGS"
   ]
  },
  {
   "cell_type": "markdown",
   "id": "1d635ff8",
   "metadata": {},
   "source": [
    "Importing the necessary packages"
   ]
  },
  {
   "cell_type": "code",
   "execution_count": 3,
   "id": "c74718d4",
   "metadata": {},
   "outputs": [],
   "source": [
    "import numpy as np\n",
    "import pandas as pd\n",
    "import matplotlib.pyplot as plt\n",
    "from PIL import Image\n",
    "import splitfolders\n",
    "import torch\n",
    "import torch.optim as optim\n",
    "from torch.utils.data import DataLoader\n",
    "import torchvision.transforms as transforms\n",
    "from torchvision.datasets import ImageFolder\n",
    "import torch.nn as nn\n",
    "import torch.nn.functional as F \n"
   ]
  },
  {
   "cell_type": "markdown",
   "id": "742d2d3d",
   "metadata": {},
   "source": [
    "Specifying the necessary image transformations"
   ]
  },
  {
   "cell_type": "code",
   "execution_count": 4,
   "id": "66632db0",
   "metadata": {},
   "outputs": [],
   "source": [
    "def rescale(img, target_size):\n",
    "    h, w = img.size\n",
    "    scale = min(target_size/w, target_size/h)\n",
    "    nw = int(w * scale)\n",
    "    nh = int(h * scale)\n",
    "    px = (target_size - nw)//2 if target_size > nw else 0\n",
    "    py = (target_size - nh)//2 if target_size > nh else 0\n",
    "    img = img.resize((nw, nh), Image.BILINEAR)\n",
    "    new_img = Image.new('RGB', (target_size, target_size), (0, 0, 0))\n",
    "    new_img.paste(img, (px, py))\n",
    "    return new_img\n"
   ]
  },
  {
   "cell_type": "code",
   "execution_count": 5,
   "id": "099399d3",
   "metadata": {},
   "outputs": [],
   "source": [
    "train_transform = transforms.Compose(\n",
    "    [transforms.Lambda(lambda img : rescale(img, 256)),\n",
    "     transforms.ToTensor(),\n",
    "     transforms.RandomHorizontalFlip(),\n",
    "     transforms.RandomRotation(15),\n",
    "     transforms.ColorJitter(0.2, 0.2, 0.2, 0.1),\n",
    "     transforms.Normalize((0.5, 0.5, 0.5), (0.5, 0.5, 0.5))]\n",
    ")"
   ]
  },
  {
   "cell_type": "code",
   "execution_count": 6,
   "id": "7e8d4758",
   "metadata": {},
   "outputs": [],
   "source": [
    "transform = transforms.Compose(\n",
    "    [transforms.Lambda(lambda img : rescale(img, 256)),\n",
    "     transforms.ToTensor(),\n",
    "     transforms.Normalize((0.5, 0.5, 0.5), (0.5, 0.5, 0.5))]\n",
    ")"
   ]
  },
  {
   "cell_type": "markdown",
   "id": "932b5a95",
   "metadata": {},
   "source": [
    "Splitting the dataset into training, validation and testing dataset"
   ]
  },
  {
   "cell_type": "code",
   "execution_count": 7,
   "id": "7d99881f",
   "metadata": {},
   "outputs": [
    {
     "name": "stderr",
     "output_type": "stream",
     "text": [
      "Copying files: 24998 files [00:54, 457.36 files/s]\n"
     ]
    }
   ],
   "source": [
    "input_folder = './PetImages'\n",
    "output_folder = './PetImagesGrouped'\n",
    "splitfolders.ratio(input_folder, output = output_folder, seed = 42, ratio = (.7, .1, .2))"
   ]
  },
  {
   "cell_type": "code",
   "execution_count": 8,
   "id": "532152e2",
   "metadata": {},
   "outputs": [],
   "source": [
    "train_dataset = ImageFolder(root = './PetImagesGrouped/train', transform = train_transform)\n",
    "val_dataset = ImageFolder(root = './PetImagesGrouped/val', transform = transform)\n",
    "test_dataset = ImageFolder(root = './PetImagesGrouped/test', transform = transform)"
   ]
  },
  {
   "cell_type": "markdown",
   "id": "a357d35e",
   "metadata": {},
   "source": [
    "Creating Train, Validation and Test DataLoaders"
   ]
  },
  {
   "cell_type": "code",
   "execution_count": 9,
   "id": "6990809b",
   "metadata": {},
   "outputs": [],
   "source": [
    "train_loader = DataLoader(train_dataset, batch_size = 64, shuffle = True)\n",
    "val_loader = DataLoader(val_dataset, batch_size = 64, shuffle = False)\n",
    "test_loader = DataLoader(test_dataset, batch_size = 64, shuffle = False)"
   ]
  },
  {
   "cell_type": "markdown",
   "id": "30f5aa57",
   "metadata": {},
   "source": [
    "Defining the CNN Architecture"
   ]
  },
  {
   "cell_type": "code",
   "execution_count": 10,
   "id": "00b35c72",
   "metadata": {},
   "outputs": [],
   "source": [
    "class MyCNN(nn.Module):\n",
    "    def __init__(self):\n",
    "        super(MyCNN, self).__init__()\n",
    "\n",
    "        self.conv1 = nn.Conv2d(in_channels = 3, out_channels = 16, kernel_size = 3, stride = 1, padding = 1)\n",
    "        self.conv2 = nn.Conv2d(16, 32, 3, 1, 1)\n",
    "        self.conv3 = nn.Conv2d(32, 64, 3, 1, 1)\n",
    "        self.conv4 = nn.Conv2d(64, 128, 3, 1, 1)\n",
    "        self.conv5 = nn.Conv2d(128, 256, 3, 1, 1)\n",
    "        self.conv6 = nn.Conv2d(256, 512, 3, 1, 1)\n",
    "        self.conv7 = nn.Conv2d(512, 1024, 3, 1, 1)\n",
    "        self.conv8 = nn.Conv2d(1024, 2048, 3, 1, 1)\n",
    "\n",
    "        self.pool = nn.MaxPool2d(kernel_size = 2, stride = 2)\n",
    "\n",
    "        self.fc1 = nn.Linear(2048*1*1, 256)\n",
    "        self.fc2 = nn.Linear(256, 32)\n",
    "        self.fc3 = nn.Linear(32, 4)\n",
    "        self.fc4 = nn.Linear(4, 2)\n",
    "\n",
    "        self.d1 = nn.Dropout2d(0.5)\n",
    "        self.d2 = nn.Dropout2d(0.25)\n",
    "\n",
    "        self.d3 = nn.Dropout(0.5)\n",
    "        self.d4 = nn.Dropout(0.25)\n",
    "\n",
    "        self.b1 = nn.BatchNorm2d(16)\n",
    "        self.b2 = nn.BatchNorm2d(32)\n",
    "        self.b3 = nn.BatchNorm2d(64)\n",
    "        self.b4 = nn.BatchNorm2d(128)\n",
    "        self.b5 = nn.BatchNorm2d(256)\n",
    "        self.b6 = nn.BatchNorm2d(512)\n",
    "        self.b7 = nn.BatchNorm2d(1024)\n",
    "        self.b8 = nn.BatchNorm2d(2048)\n",
    "        \n",
    "    def forward(self, x):\n",
    "        x = self.pool(F.relu(self.b1(self.conv1(x))))\n",
    "        x = self.pool(F.relu(self.b2(self.conv2(x))))\n",
    "        x = self.pool(self.d1(F.relu(self.b3(self.conv3(x)))))\n",
    "        x = self.pool(F.relu(self.b4(self.conv4(x))))\n",
    "        x = self.pool(F.relu(self.b5(self.conv5(x))))\n",
    "        x = self.pool(self.d2(F.relu(self.b6(self.conv6(x)))))\n",
    "        x = self.pool(F.relu(self.b7(self.conv7(x))))\n",
    "        x = self.pool(F.relu(self.b8(self.conv8(x))))\n",
    "        x = x.view(x.size(0), -1)\n",
    "        x = self.d3(F.relu(self.fc1(x)))\n",
    "        x = self.d4(F.relu(self.fc2(x)))\n",
    "        x = F.relu(self.fc3(x))\n",
    "        x = self.fc4(x)\n",
    "        return x\n",
    "    \n",
    "model = MyCNN()"
   ]
  },
  {
   "cell_type": "markdown",
   "id": "8c2f4bec",
   "metadata": {},
   "source": [
    "Defining the class for implementing Early Stopping"
   ]
  },
  {
   "cell_type": "code",
   "execution_count": 11,
   "id": "0dbe2cb2",
   "metadata": {},
   "outputs": [],
   "source": [
    "class EarlyStopping:\n",
    "    def __init__(self, patience = 3, delta = 0.001, verbose = False):\n",
    "        self.patience = patience\n",
    "        self.delta = delta\n",
    "        self.verbose = verbose\n",
    "        self.best_loss = None\n",
    "        self.no_improvement_count = 0\n",
    "        self.stop_training = False\n",
    "    def check_early_stop(self, val_loss):\n",
    "        if self.best_loss is None or val_loss < self.best_loss - self.delta:\n",
    "            self.best_loss = val_loss\n",
    "            self.no_improvement_count = 0\n",
    "        else:\n",
    "            self.no_improvement_count += 1\n",
    "            if self.no_improvement_count >= self.patience:\n",
    "                self.stop_training = True \n",
    "                if self.verbose:\n",
    "                    print(\"Stopping early due to no improvement\")\n",
    "\n",
    "early_stopping = EarlyStopping(patience = 5, verbose = True)"
   ]
  },
  {
   "cell_type": "markdown",
   "id": "7c44357f",
   "metadata": {},
   "source": [
    "Defining Loss function and Optimizer with Learning Rate scheduler"
   ]
  },
  {
   "cell_type": "code",
   "execution_count": 12,
   "id": "d61d1243",
   "metadata": {},
   "outputs": [],
   "source": [
    "criterion = nn.CrossEntropyLoss()\n",
    "optimizer = optim.AdamW(model.parameters(), lr = 0.001, weight_decay = 0.0001)\n",
    "scheduler = optim.lr_scheduler.ReduceLROnPlateau(optimizer)"
   ]
  },
  {
   "cell_type": "markdown",
   "id": "15fcab22",
   "metadata": {},
   "source": [
    "Device selection"
   ]
  },
  {
   "cell_type": "code",
   "execution_count": 13,
   "id": "56c4d888",
   "metadata": {},
   "outputs": [
    {
     "data": {
      "text/plain": [
       "MyCNN(\n",
       "  (conv1): Conv2d(3, 16, kernel_size=(3, 3), stride=(1, 1), padding=(1, 1))\n",
       "  (conv2): Conv2d(16, 32, kernel_size=(3, 3), stride=(1, 1), padding=(1, 1))\n",
       "  (conv3): Conv2d(32, 64, kernel_size=(3, 3), stride=(1, 1), padding=(1, 1))\n",
       "  (conv4): Conv2d(64, 128, kernel_size=(3, 3), stride=(1, 1), padding=(1, 1))\n",
       "  (conv5): Conv2d(128, 256, kernel_size=(3, 3), stride=(1, 1), padding=(1, 1))\n",
       "  (conv6): Conv2d(256, 512, kernel_size=(3, 3), stride=(1, 1), padding=(1, 1))\n",
       "  (conv7): Conv2d(512, 1024, kernel_size=(3, 3), stride=(1, 1), padding=(1, 1))\n",
       "  (conv8): Conv2d(1024, 2048, kernel_size=(3, 3), stride=(1, 1), padding=(1, 1))\n",
       "  (pool): MaxPool2d(kernel_size=2, stride=2, padding=0, dilation=1, ceil_mode=False)\n",
       "  (fc1): Linear(in_features=2048, out_features=256, bias=True)\n",
       "  (fc2): Linear(in_features=256, out_features=32, bias=True)\n",
       "  (fc3): Linear(in_features=32, out_features=4, bias=True)\n",
       "  (fc4): Linear(in_features=4, out_features=2, bias=True)\n",
       "  (d1): Dropout2d(p=0.5, inplace=False)\n",
       "  (d2): Dropout2d(p=0.25, inplace=False)\n",
       "  (d3): Dropout(p=0.5, inplace=False)\n",
       "  (d4): Dropout(p=0.25, inplace=False)\n",
       "  (b1): BatchNorm2d(16, eps=1e-05, momentum=0.1, affine=True, track_running_stats=True)\n",
       "  (b2): BatchNorm2d(32, eps=1e-05, momentum=0.1, affine=True, track_running_stats=True)\n",
       "  (b3): BatchNorm2d(64, eps=1e-05, momentum=0.1, affine=True, track_running_stats=True)\n",
       "  (b4): BatchNorm2d(128, eps=1e-05, momentum=0.1, affine=True, track_running_stats=True)\n",
       "  (b5): BatchNorm2d(256, eps=1e-05, momentum=0.1, affine=True, track_running_stats=True)\n",
       "  (b6): BatchNorm2d(512, eps=1e-05, momentum=0.1, affine=True, track_running_stats=True)\n",
       "  (b7): BatchNorm2d(1024, eps=1e-05, momentum=0.1, affine=True, track_running_stats=True)\n",
       "  (b8): BatchNorm2d(2048, eps=1e-05, momentum=0.1, affine=True, track_running_stats=True)\n",
       ")"
      ]
     },
     "execution_count": 13,
     "metadata": {},
     "output_type": "execute_result"
    }
   ],
   "source": [
    "device = torch.device(\"mps\" if torch.backends.mps.is_available() else \"cpu\")\n",
    "model.to(device)"
   ]
  },
  {
   "cell_type": "markdown",
   "id": "af8f3d25",
   "metadata": {},
   "source": [
    "Training the CNN"
   ]
  },
  {
   "cell_type": "code",
   "execution_count": 14,
   "id": "46e6f644",
   "metadata": {},
   "outputs": [
    {
     "name": "stderr",
     "output_type": "stream",
     "text": [
      "/Library/Frameworks/Python.framework/Versions/3.13/lib/python3.13/site-packages/PIL/TiffImagePlugin.py:949: UserWarning: Truncated File Read\n",
      "  warnings.warn(str(msg))\n"
     ]
    },
    {
     "name": "stdout",
     "output_type": "stream",
     "text": [
      "Epoch 1 :- Training error : 0.6839624041566452 ; Training accuracy : 55.595559555955596 ; Validation error : 0.6682175646854353 ; Validation accuracy : 61.06885508406725\n",
      "Epoch 2 :- Training error : 0.6476376583210577 ; Training accuracy : 62.51125112511251 ; Validation error : 0.6160811329189735 ; Validation accuracy : 66.23298638911129\n",
      "Epoch 3 :- Training error : 0.5959682464599609 ; Training accuracy : 68.47184718471847 ; Validation error : 0.5558004103883912 ; Validation accuracy : 70.77662129703764\n",
      "Epoch 4 :- Training error : 0.5527509837485731 ; Training accuracy : 72.13721372137213 ; Validation error : 0.5061680006829998 ; Validation accuracy : 74.4595676541233\n",
      "Epoch 5 :- Training error : 0.5117325950354433 ; Training accuracy : 75.04250425042504 ; Validation error : 0.45051533361024493 ; Validation accuracy : 80.80464371497197\n",
      "Epoch 6 :- Training error : 0.4690830058183152 ; Training accuracy : 77.84778477847784 ; Validation error : 0.3902454904363125 ; Validation accuracy : 82.2658126501201\n",
      "Epoch 7 :- Training error : 0.4207575219317366 ; Training accuracy : 80.67306730673067 ; Validation error : 0.3655631993013092 ; Validation accuracy : 84.26741393114492\n",
      "Epoch 8 :- Training error : 0.3930352607283729 ; Training accuracy : 82.85828582858286 ; Validation error : 0.3575774931077716 ; Validation accuracy : 83.70696557245796\n",
      "Epoch 9 :- Training error : 0.3650629159551078 ; Training accuracy : 83.83338333833383 ; Validation error : 0.3102797211348256 ; Validation accuracy : 86.82946357085669\n",
      "Epoch 10 :- Training error : 0.3350563175952473 ; Training accuracy : 85.62356235623562 ; Validation error : 0.2793966457247734 ; Validation accuracy : 88.47077662129703\n",
      "Epoch 11 :- Training error : 0.32378262747971776 ; Training accuracy : 86.04360436043605 ; Validation error : 0.26347027058842815 ; Validation accuracy : 89.35148118494796\n",
      "Epoch 12 :- Training error : 0.30331683834901635 ; Training accuracy : 87.08870887088709 ; Validation error : 0.2350485911474952 ; Validation accuracy : 90.41232986389112\n",
      "Epoch 13 :- Training error : 0.28355970540747477 ; Training accuracy : 87.68376837683769 ; Validation error : 0.2109561587059045 ; Validation accuracy : 90.77261809447558\n",
      "Epoch 14 :- Training error : 0.26817922603588895 ; Training accuracy : 88.94889488948895 ; Validation error : 0.2289769995627524 ; Validation accuracy : 90.43234587670136\n",
      "Epoch 15 :- Training error : 0.26036905887694406 ; Training accuracy : 89.15391539153916 ; Validation error : 0.20167591696298576 ; Validation accuracy : 91.67333867093674\n",
      "Epoch 16 :- Training error : 0.24879989758752785 ; Training accuracy : 89.62896289628964 ; Validation error : 0.19801961979534052 ; Validation accuracy : 91.31305044035228\n",
      "Epoch 17 :- Training error : 0.23526565435404975 ; Training accuracy : 89.76397639763977 ; Validation error : 0.18675394205352927 ; Validation accuracy : 92.41393114491594\n",
      "Epoch 18 :- Training error : 0.23189191101267695 ; Training accuracy : 90.33403340334033 ; Validation error : 0.1744160818148263 ; Validation accuracy : 92.7341873498799\n",
      "Epoch 19 :- Training error : 0.2217709538273918 ; Training accuracy : 90.7990799079908 ; Validation error : 0.16583586899162847 ; Validation accuracy : 93.69495596477182\n",
      "Epoch 20 :- Training error : 0.21689637890829447 ; Training accuracy : 90.88908890889088 ; Validation error : 0.1695720247358461 ; Validation accuracy : 92.75420336269015\n",
      "Epoch 21 :- Training error : 0.20954203972229943 ; Training accuracy : 91.48414841484148 ; Validation error : 0.17541694028090826 ; Validation accuracy : 93.3546837469976\n",
      "Epoch 22 :- Training error : 0.20088881933793853 ; Training accuracy : 91.70417041704171 ; Validation error : 0.16588496322496027 ; Validation accuracy : 93.73498799039231\n",
      "Epoch 23 :- Training error : 0.19747939736793596 ; Training accuracy : 91.89418941894189 ; Validation error : 0.15157409512166736 ; Validation accuracy : 93.91513210568455\n",
      "Epoch 24 :- Training error : 0.18981085960476543 ; Training accuracy : 92.35423542354235 ; Validation error : 0.15453842626530914 ; Validation accuracy : 93.29463570856686\n",
      "Epoch 25 :- Training error : 0.1868947746035771 ; Training accuracy : 92.16421642164217 ; Validation error : 0.14548899219194544 ; Validation accuracy : 93.91513210568455\n",
      "Epoch 26 :- Training error : 0.17786067857529028 ; Training accuracy : 92.72927292729273 ; Validation error : 0.14967500442002393 ; Validation accuracy : 93.87510008006406\n",
      "Epoch 27 :- Training error : 0.17675834734695026 ; Training accuracy : 92.88428842884288 ; Validation error : 0.13782122684053227 ; Validation accuracy : 94.69575660528423\n",
      "Epoch 28 :- Training error : 0.1717258545870598 ; Training accuracy : 93.04930493049305 ; Validation error : 0.13860752829645254 ; Validation accuracy : 94.39551641313051\n",
      "Epoch 29 :- Training error : 0.1628603947381623 ; Training accuracy : 93.44934493449345 ; Validation error : 0.15012619493505622 ; Validation accuracy : 94.65572457966373\n",
      "Epoch 30 :- Training error : 0.16886016896690803 ; Training accuracy : 93.08430843084308 ; Validation error : 0.13112138895482955 ; Validation accuracy : 94.97598078462771\n",
      "Epoch 31 :- Training error : 0.1610827065599612 ; Training accuracy : 93.52435243524353 ; Validation error : 0.13143108910114704 ; Validation accuracy : 95.17614091273019\n",
      "Epoch 32 :- Training error : 0.1574793878835611 ; Training accuracy : 93.75437543754376 ; Validation error : 0.12642063879514043 ; Validation accuracy : 94.89591673338671\n",
      "Epoch 33 :- Training error : 0.1505057155586089 ; Training accuracy : 94.04440444044404 ; Validation error : 0.11875459429206728 ; Validation accuracy : 95.25620496397117\n",
      "Epoch 34 :- Training error : 0.14665317090269855 ; Training accuracy : 93.94439443944394 ; Validation error : 0.1300775843047643 ; Validation accuracy : 95.23618895116093\n",
      "Epoch 35 :- Training error : 0.14628241822932855 ; Training accuracy : 94.21442144214421 ; Validation error : 0.12446449744173244 ; Validation accuracy : 95.07606084867895\n",
      "Epoch 36 :- Training error : 0.14201819991913087 ; Training accuracy : 94.24442444244424 ; Validation error : 0.1256199568227122 ; Validation accuracy : 95.05604483586869\n",
      "Epoch 37 :- Training error : 0.1352477303316323 ; Training accuracy : 94.6944694469447 ; Validation error : 0.1335014540089082 ; Validation accuracy : 94.73578863090472\n",
      "Epoch 38 :- Training error : 0.13953185010070618 ; Training accuracy : 94.48444844484449 ; Validation error : 0.11827951093216109 ; Validation accuracy : 95.31625300240192\n",
      "Stopping early due to no improvement\n"
     ]
    }
   ],
   "source": [
    "epochs = 70\n",
    "best_val_acc = 0\n",
    "epochs_list = []\n",
    "t_loss = []\n",
    "t_acc = []\n",
    "v_loss = []\n",
    "v_acc = []\n",
    "for epoch in range(epochs):\n",
    "    model.train()\n",
    "    train_loss = 0.0\n",
    "    t_correct = 0\n",
    "    t_total = 0\n",
    "    for data in train_loader:\n",
    "        inputs, labels = data\n",
    "        inputs = inputs.to(device)\n",
    "        labels = labels.to(device)\n",
    "        optimizer.zero_grad()\n",
    "        outputs = model(inputs)\n",
    "        _, predicted = torch.max(outputs.data, 1)\n",
    "        t_total += labels.size(0)\n",
    "        t_correct += (predicted == labels).sum().item()\n",
    "        loss = criterion(outputs, labels)\n",
    "        loss.backward()\n",
    "        optimizer.step()\n",
    "        train_loss += loss.item()\n",
    "    model.eval()\n",
    "    val_loss = 0.0\n",
    "    v_correct = 0\n",
    "    v_total = 0\n",
    "    for data in val_loader:\n",
    "        images, labels = data\n",
    "        images = images.to(device)\n",
    "        labels = labels.to(device)\n",
    "        outputs = model(images)\n",
    "        loss = criterion(outputs, labels)\n",
    "        val_loss += loss.item()\n",
    "        _, predicted = torch.max(outputs.data, 1)\n",
    "        v_total += labels.size(0)\n",
    "        v_correct += (predicted == labels).sum().item()\n",
    "    training_loss = train_loss/len(train_loader)\n",
    "    training_accuracy = (t_correct * 100)/t_total\n",
    "    validation_loss = val_loss/len(val_loader)\n",
    "    validation_accuracy = (v_correct * 100)/v_total\n",
    "    if validation_accuracy > best_val_acc:\n",
    "        best_val_acc = validation_accuracy\n",
    "        torch.save(model.state_dict(), 'cat_dog_classify.pth')\n",
    "    print(f\"Epoch {epoch + 1} :- Training error : {training_loss} ; Training accuracy : {training_accuracy} ; Validation error : {validation_loss} ; Validation accuracy : {validation_accuracy}\")\n",
    "    epochs_list.append(epoch + 1)\n",
    "    t_loss.append(training_loss)\n",
    "    v_loss.append(validation_loss)\n",
    "    t_acc.append(training_accuracy)\n",
    "    v_acc.append(validation_accuracy)\n",
    "    early_stopping.check_early_stop(validation_loss)\n",
    "    if early_stopping.stop_training:\n",
    "        break"
   ]
  },
  {
   "cell_type": "markdown",
   "id": "53e5c726",
   "metadata": {},
   "source": [
    "Plotting the Training and Validation accuracy with respect to the number of epochs"
   ]
  },
  {
   "cell_type": "code",
   "execution_count": 15,
   "id": "5815200b",
   "metadata": {},
   "outputs": [
    {
     "data": {
      "image/png": "[encoded data removed]",
      "text/plain": [
       "<Figure size 640x480 with 1 Axes>"
      ]
     },
     "metadata": {},
     "output_type": "display_data"
    }
   ],
   "source": [
    "plt.plot(epochs_list, t_acc, color = 'r', label = 'Training accuracy')\n",
    "plt.plot(epochs_list, v_acc, color = 'g', label = 'Validation accuracy')\n",
    "plt.legend()\n",
    "plt.title('Training and Validation Accuracy')\n",
    "plt.xlabel('Epochs')\n",
    "plt.ylabel('Accuracy')\n",
    "plt.show()"
   ]
  },
  {
   "cell_type": "markdown",
   "id": "8b44532c",
   "metadata": {},
   "source": [
    "Plotting the Training and Validation loss with respect to the number of epochs"
   ]
  },
  {
   "cell_type": "code",
   "execution_count": 16,
   "id": "1821f0ee",
   "metadata": {},
   "outputs": [
    {
     "data": {
      "image/png": "[encoded data removed]",
      "text/plain": [
       "<Figure size 640x480 with 1 Axes>"
      ]
     },
     "metadata": {},
     "output_type": "display_data"
    }
   ],
   "source": [
    "plt.plot(epochs_list, t_loss, color = 'r', label = 'Training loss')\n",
    "plt.plot(epochs_list, v_loss, color = 'g', label = 'Validation loss')\n",
    "plt.legend()\n",
    "plt.title('Training and Validation Loss')\n",
    "plt.xlabel('Epochs')\n",
    "plt.ylabel('Loss')\n",
    "plt.show()"
   ]
  },
  {
   "cell_type": "markdown",
   "id": "1ba36754",
   "metadata": {},
   "source": [
    "Testing the CNN Model"
   ]
  },
  {
   "cell_type": "code",
   "execution_count": 17,
   "id": "f249cc6a",
   "metadata": {},
   "outputs": [
    {
     "name": "stdout",
     "output_type": "stream",
     "text": [
      "Accuracy of the model is 94.26229508196721\n"
     ]
    }
   ],
   "source": [
    "correct = 0\n",
    "total = 0\n",
    "model.load_state_dict(torch.load('cat_dog_classify.pth'))\n",
    "model.eval()\n",
    "for data in test_loader:\n",
    "    images, labels = data\n",
    "    images = images.to(device)\n",
    "    labels = labels.to(device)\n",
    "    outputs = model(images)\n",
    "    _, predicted = torch.max(outputs.data, 1)\n",
    "    total += labels.size(0)\n",
    "    correct += (predicted == labels).sum().item()\n",
    "print(f\"Accuracy of the model is {(correct * 100)/total}\")"
   ]
  }
 ],
 "metadata": {
  "kernelspec": {
   "display_name": "Python 3",
   "language": "python",
   "name": "python3"
  },
  "language_info": {
   "codemirror_mode": {
    "name": "ipython",
    "version": 3
   },
   "file_extension": ".py",
   "mimetype": "text/x-python",
   "name": "python",
   "nbconvert_exporter": "python",
   "pygments_lexer": "ipython3",
   "version": "3.13.1"
  }
 },
 "nbformat": 4,
 "nbformat_minor": 5
}
