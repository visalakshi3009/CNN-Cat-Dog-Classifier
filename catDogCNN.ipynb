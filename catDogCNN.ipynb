{
 "cells": [
  {
   "cell_type": "markdown",
   "id": "47b00d40",
   "metadata": {},
   "source": [
    "# CONVOLUTIONAL NEURAL NETWORK TO CLASSIFY CATS AND DOGS"
   ]
  },
  {
   "cell_type": "markdown",
   "id": "1d635ff8",
   "metadata": {},
   "source": [
    "Importing the necessary packages"
   ]
  },
  {
   "cell_type": "code",
   "execution_count": 1,
   "id": "c74718d4",
   "metadata": {},
   "outputs": [],
   "source": [
    "import numpy as np\n",
    "import pandas as pd\n",
    "import matplotlib.pyplot as plt\n",
    "from PIL import Image\n",
    "import splitfolders\n",
    "import torch\n",
    "import torch.optim as optim\n",
    "from torch.utils.data import DataLoader\n",
    "import torchvision.transforms as transforms\n",
    "from torchvision.datasets import ImageFolder\n",
    "import torch.nn as nn\n",
    "import torch.nn.functional as F \n"
   ]
  },
  {
   "cell_type": "markdown",
   "id": "742d2d3d",
   "metadata": {},
   "source": [
    "Specifying the necessary image transformations"
   ]
  },
  {
   "cell_type": "code",
   "execution_count": 2,
   "id": "66632db0",
   "metadata": {},
   "outputs": [],
   "source": [
    "def rescale(img, target_size):\n",
    "    h, w = img.size\n",
    "    scale = min(target_size/w, target_size/h)\n",
    "    nw = int(w * scale)\n",
    "    nh = int(h * scale)\n",
    "    px = (target_size - nw)//2 if target_size > nw else 0\n",
    "    py = (target_size - nh)//2 if target_size > nh else 0\n",
    "    img = img.resize((nw, nh), Image.BILINEAR)\n",
    "    new_img = Image.new('RGB', (target_size, target_size), (0, 0, 0))\n",
    "    new_img.paste(img, (px, py))\n",
    "    return new_img\n"
   ]
  },
  {
   "cell_type": "code",
   "execution_count": 3,
   "id": "099399d3",
   "metadata": {},
   "outputs": [],
   "source": [
    "train_transform = transforms.Compose(\n",
    "    [transforms.Lambda(lambda img : rescale(img, 256)),\n",
    "     transforms.ToTensor(),\n",
    "     transforms.RandomHorizontalFlip(),\n",
    "     transforms.RandomRotation(15),\n",
    "     transforms.ColorJitter(0.2, 0.2, 0.2, 0.1),\n",
    "     transforms.Normalize((0.5, 0.5, 0.5), (0.5, 0.5, 0.5))]\n",
    ")"
   ]
  },
  {
   "cell_type": "code",
   "execution_count": 4,
   "id": "7e8d4758",
   "metadata": {},
   "outputs": [],
   "source": [
    "transform = transforms.Compose(\n",
    "    [transforms.Lambda(lambda img : rescale(img, 256)),\n",
    "     transforms.ToTensor(),\n",
    "     transforms.Normalize((0.5, 0.5, 0.5), (0.5, 0.5, 0.5))]\n",
    ")"
   ]
  },
  {
   "cell_type": "markdown",
   "id": "932b5a95",
   "metadata": {},
   "source": [
    "Splitting the dataset into training, validation and testing dataset"
   ]
  },
  {
   "cell_type": "code",
   "execution_count": 5,
   "id": "7d99881f",
   "metadata": {},
   "outputs": [
    {
     "name": "stderr",
     "output_type": "stream",
     "text": [
      "Copying files: 24998 files [00:57, 432.78 files/s]\n"
     ]
    }
   ],
   "source": [
    "input_folder = './PetImages'\n",
    "output_folder = './PetImagesGrouped'\n",
    "splitfolders.ratio(input_folder, output = output_folder, seed = 42, ratio = (.7, .1, .2))"
   ]
  },
  {
   "cell_type": "code",
   "execution_count": 6,
   "id": "532152e2",
   "metadata": {},
   "outputs": [],
   "source": [
    "train_dataset = ImageFolder(root = './PetImagesGrouped/train', transform = train_transform)\n",
    "val_dataset = ImageFolder(root = './PetImagesGrouped/val', transform = transform)\n",
    "test_dataset = ImageFolder(root = './PetImagesGrouped/test', transform = transform)"
   ]
  },
  {
   "cell_type": "markdown",
   "id": "a357d35e",
   "metadata": {},
   "source": [
    "Creating Train, Validation and Test DataLoaders"
   ]
  },
  {
   "cell_type": "code",
   "execution_count": 7,
   "id": "6990809b",
   "metadata": {},
   "outputs": [],
   "source": [
    "train_loader = DataLoader(train_dataset, batch_size = 32, shuffle = True)\n",
    "val_loader = DataLoader(val_dataset, batch_size = 32, shuffle = False)\n",
    "test_loader = DataLoader(test_dataset, batch_size = 32, shuffle = False)"
   ]
  },
  {
   "cell_type": "markdown",
   "id": "30f5aa57",
   "metadata": {},
   "source": [
    "Defining the CNN Architecture"
   ]
  },
  {
   "cell_type": "code",
   "execution_count": 8,
   "id": "00b35c72",
   "metadata": {},
   "outputs": [],
   "source": [
    "class MyCNN(nn.Module):\n",
    "    def __init__(self):\n",
    "        super(MyCNN, self).__init__()\n",
    "\n",
    "        self.conv1 = nn.Conv2d(in_channels = 3, out_channels = 16, kernel_size = 3, stride = 1, padding = 1)\n",
    "        self.conv2 = nn.Conv2d(16, 32, 3, 1, 1)\n",
    "        self.conv3 = nn.Conv2d(32, 64, 3, 1, 1)\n",
    "        self.conv4 = nn.Conv2d(64, 128, 3, 1, 1)\n",
    "        self.conv5 = nn.Conv2d(128, 256, 3, 1, 1)\n",
    "        self.conv6 = nn.Conv2d(256, 512, 3, 1, 1)\n",
    "        self.conv7 = nn.Conv2d(512, 1024, 3, 1, 1)\n",
    "        self.conv8 = nn.Conv2d(1024, 2048, 3, 1, 1)\n",
    "\n",
    "        self.pool = nn.MaxPool2d(kernel_size = 2, stride = 2)\n",
    "\n",
    "        self.fc1 = nn.Linear(2048*1*1, 256)\n",
    "        self.fc2 = nn.Linear(256, 32)\n",
    "        self.fc3 = nn.Linear(32, 4)\n",
    "        self.fc4 = nn.Linear(4, 2)\n",
    "\n",
    "        self.d1 = nn.Dropout2d(0.5)\n",
    "        self.d2 = nn.Dropout2d(0.25)\n",
    "\n",
    "        self.d3 = nn.Dropout(0.5)\n",
    "        self.d4 = nn.Dropout(0.25)\n",
    "\n",
    "        self.b1 = nn.BatchNorm2d(16)\n",
    "        self.b2 = nn.BatchNorm2d(32)\n",
    "        self.b3 = nn.BatchNorm2d(64)\n",
    "        self.b4 = nn.BatchNorm2d(128)\n",
    "        self.b5 = nn.BatchNorm2d(256)\n",
    "        self.b6 = nn.BatchNorm2d(512)\n",
    "        self.b7 = nn.BatchNorm2d(1024)\n",
    "        self.b8 = nn.BatchNorm2d(2048)\n",
    "\n",
    "        self.b9 = nn.BatchNorm1d(256)\n",
    "        self.b10 = nn.BatchNorm1d(32)\n",
    "        self.b11 = nn.BatchNorm1d(4)\n",
    "        \n",
    "    def forward(self, x):\n",
    "        x = self.pool(F.relu(self.b1(self.conv1(x))))\n",
    "        x = self.pool(F.relu(self.b2(self.conv2(x))))\n",
    "        x = self.pool(self.d1(F.relu(self.b3(self.conv3(x)))))\n",
    "        x = self.pool(F.relu(self.b4(self.conv4(x))))\n",
    "        x = self.pool(F.relu(self.b5(self.conv5(x))))\n",
    "        x = self.pool(self.d2(F.relu(self.b6(self.conv6(x)))))\n",
    "        x = self.pool(F.relu(self.b7(self.conv7(x))))\n",
    "        x = self.pool(F.relu(self.b8(self.conv8(x))))\n",
    "        x = x.view(x.size(0), -1)\n",
    "        x = self.d3(F.relu(self.b9(self.fc1(x))))\n",
    "        x = self.d4(F.relu(self.b10(self.fc2(x))))\n",
    "        x = F.relu(self.b11(self.fc3(x)))\n",
    "        x = self.fc4(x)\n",
    "        return x\n",
    "    \n",
    "model = MyCNN()"
   ]
  },
  {
   "cell_type": "markdown",
   "id": "8c2f4bec",
   "metadata": {},
   "source": [
    "Defining the class for implementing Early Stopping"
   ]
  },
  {
   "cell_type": "code",
   "execution_count": 9,
   "id": "0dbe2cb2",
   "metadata": {},
   "outputs": [],
   "source": [
    "class EarlyStopping:\n",
    "    def __init__(self, patience = 3, delta = 0.001, verbose = False):\n",
    "        self.patience = patience\n",
    "        self.delta = delta\n",
    "        self.verbose = verbose\n",
    "        self.best_loss = None\n",
    "        self.no_improvement_count = 0\n",
    "        self.stop_training = False\n",
    "    def check_early_stop(self, val_loss):\n",
    "        if self.best_loss is None or val_loss < self.best_loss - self.delta:\n",
    "            self.best_loss = val_loss\n",
    "            self.no_improvement_count = 0\n",
    "        else:\n",
    "            self.no_improvement_count += 1\n",
    "            if self.no_improvement_count >= self.patience:\n",
    "                self.stop_training = True \n",
    "                if self.verbose:\n",
    "                    print(\"Stopping early due to no improvement\")\n",
    "\n",
    "early_stopping = EarlyStopping(patience = 5, verbose = True)"
   ]
  },
  {
   "cell_type": "markdown",
   "id": "7c44357f",
   "metadata": {},
   "source": [
    "Defining Loss function and Optimizer with Learning Rate scheduler"
   ]
  },
  {
   "cell_type": "code",
   "execution_count": 10,
   "id": "d61d1243",
   "metadata": {},
   "outputs": [],
   "source": [
    "criterion = nn.CrossEntropyLoss()\n",
    "optimizer = optim.AdamW(model.parameters(), lr = 0.001, weight_decay = 0.001)\n",
    "scheduler = optim.lr_scheduler.ReduceLROnPlateau(optimizer)"
   ]
  },
  {
   "cell_type": "markdown",
   "id": "15fcab22",
   "metadata": {},
   "source": [
    "Device selection"
   ]
  },
  {
   "cell_type": "code",
   "execution_count": 11,
   "id": "56c4d888",
   "metadata": {},
   "outputs": [
    {
     "data": {
      "text/plain": [
       "MyCNN(\n",
       "  (conv1): Conv2d(3, 16, kernel_size=(3, 3), stride=(1, 1), padding=(1, 1))\n",
       "  (conv2): Conv2d(16, 32, kernel_size=(3, 3), stride=(1, 1), padding=(1, 1))\n",
       "  (conv3): Conv2d(32, 64, kernel_size=(3, 3), stride=(1, 1), padding=(1, 1))\n",
       "  (conv4): Conv2d(64, 128, kernel_size=(3, 3), stride=(1, 1), padding=(1, 1))\n",
       "  (conv5): Conv2d(128, 256, kernel_size=(3, 3), stride=(1, 1), padding=(1, 1))\n",
       "  (conv6): Conv2d(256, 512, kernel_size=(3, 3), stride=(1, 1), padding=(1, 1))\n",
       "  (conv7): Conv2d(512, 1024, kernel_size=(3, 3), stride=(1, 1), padding=(1, 1))\n",
       "  (conv8): Conv2d(1024, 2048, kernel_size=(3, 3), stride=(1, 1), padding=(1, 1))\n",
       "  (pool): MaxPool2d(kernel_size=2, stride=2, padding=0, dilation=1, ceil_mode=False)\n",
       "  (fc1): Linear(in_features=2048, out_features=256, bias=True)\n",
       "  (fc2): Linear(in_features=256, out_features=32, bias=True)\n",
       "  (fc3): Linear(in_features=32, out_features=4, bias=True)\n",
       "  (fc4): Linear(in_features=4, out_features=2, bias=True)\n",
       "  (d1): Dropout2d(p=0.5, inplace=False)\n",
       "  (d2): Dropout2d(p=0.25, inplace=False)\n",
       "  (d3): Dropout(p=0.5, inplace=False)\n",
       "  (d4): Dropout(p=0.25, inplace=False)\n",
       "  (b1): BatchNorm2d(16, eps=1e-05, momentum=0.1, affine=True, track_running_stats=True)\n",
       "  (b2): BatchNorm2d(32, eps=1e-05, momentum=0.1, affine=True, track_running_stats=True)\n",
       "  (b3): BatchNorm2d(64, eps=1e-05, momentum=0.1, affine=True, track_running_stats=True)\n",
       "  (b4): BatchNorm2d(128, eps=1e-05, momentum=0.1, affine=True, track_running_stats=True)\n",
       "  (b5): BatchNorm2d(256, eps=1e-05, momentum=0.1, affine=True, track_running_stats=True)\n",
       "  (b6): BatchNorm2d(512, eps=1e-05, momentum=0.1, affine=True, track_running_stats=True)\n",
       "  (b7): BatchNorm2d(1024, eps=1e-05, momentum=0.1, affine=True, track_running_stats=True)\n",
       "  (b8): BatchNorm2d(2048, eps=1e-05, momentum=0.1, affine=True, track_running_stats=True)\n",
       "  (b9): BatchNorm1d(256, eps=1e-05, momentum=0.1, affine=True, track_running_stats=True)\n",
       "  (b10): BatchNorm1d(32, eps=1e-05, momentum=0.1, affine=True, track_running_stats=True)\n",
       "  (b11): BatchNorm1d(4, eps=1e-05, momentum=0.1, affine=True, track_running_stats=True)\n",
       ")"
      ]
     },
     "execution_count": 11,
     "metadata": {},
     "output_type": "execute_result"
    }
   ],
   "source": [
    "device = torch.device(\"mps\" if torch.backends.mps.is_available() else \"cpu\")\n",
    "model.to(device)"
   ]
  },
  {
   "cell_type": "markdown",
   "id": "af8f3d25",
   "metadata": {},
   "source": [
    "Training the CNN"
   ]
  },
  {
   "cell_type": "code",
   "execution_count": 12,
   "id": "46e6f644",
   "metadata": {},
   "outputs": [
    {
     "name": "stderr",
     "output_type": "stream",
     "text": [
      "/Library/Frameworks/Python.framework/Versions/3.13/lib/python3.13/site-packages/PIL/TiffImagePlugin.py:949: UserWarning: Truncated File Read\n",
      "  warnings.warn(str(msg))\n"
     ]
    },
    {
     "name": "stdout",
     "output_type": "stream",
     "text": [
      "Epoch 1 :- Training error :  0.6655 ; Training accuracy :  59.4459% ; Validation error :  0.6285 ; Validation accuracy :  65.0520%\n",
      "Epoch 2 :- Training error :  0.6207 ; Training accuracy :  65.6316% ; Validation error :  0.5733 ; Validation accuracy :  70.2162%\n",
      "Epoch 3 :- Training error :  0.5685 ; Training accuracy :  70.2770% ; Validation error :  0.5176 ; Validation accuracy :  75.5404%\n",
      "Epoch 4 :- Training error :  0.5173 ; Training accuracy :  74.7475% ; Validation error :  0.4309 ; Validation accuracy :  80.0240%\n",
      "Epoch 5 :- Training error :  0.4708 ; Training accuracy :  77.8678% ; Validation error :  0.3925 ; Validation accuracy :  82.4059%\n",
      "Epoch 6 :- Training error :  0.4243 ; Training accuracy :  80.4230% ; Validation error :  0.3419 ; Validation accuracy :  84.5076%\n",
      "Epoch 7 :- Training error :  0.3873 ; Training accuracy :  81.9282% ; Validation error :  0.3056 ; Validation accuracy :  86.9295%\n",
      "Epoch 8 :- Training error :  0.3526 ; Training accuracy :  84.2834% ; Validation error :  0.2714 ; Validation accuracy :  87.6101%\n",
      "Epoch 9 :- Training error :  0.3280 ; Training accuracy :  85.7286% ; Validation error :  0.2419 ; Validation accuracy :  89.8719%\n",
      "Epoch 10 :- Training error :  0.3095 ; Training accuracy :  86.6387% ; Validation error :  0.2277 ; Validation accuracy :  91.1930%\n",
      "Epoch 11 :- Training error :  0.2914 ; Training accuracy :  87.5938% ; Validation error :  0.2155 ; Validation accuracy :  91.0729%\n",
      "Epoch 12 :- Training error :  0.2754 ; Training accuracy :  88.2738% ; Validation error :  0.1859 ; Validation accuracy :  92.2538%\n",
      "Epoch 13 :- Training error :  0.2655 ; Training accuracy :  88.8989% ; Validation error :  0.1782 ; Validation accuracy :  93.0544%\n",
      "Epoch 14 :- Training error :  0.2461 ; Training accuracy :  89.6840% ; Validation error :  0.1887 ; Validation accuracy :  92.4540%\n",
      "Epoch 15 :- Training error :  0.2372 ; Training accuracy :  90.1340% ; Validation error :  0.1857 ; Validation accuracy :  92.9544%\n",
      "Epoch 16 :- Training error :  0.2257 ; Training accuracy :  90.4290% ; Validation error :  0.1678 ; Validation accuracy :  93.3947%\n",
      "Epoch 17 :- Training error :  0.2180 ; Training accuracy :  90.9741% ; Validation error :  0.1476 ; Validation accuracy :  93.8951%\n",
      "Epoch 18 :- Training error :  0.2093 ; Training accuracy :  91.3391% ; Validation error :  0.1619 ; Validation accuracy :  93.5749%\n",
      "Epoch 19 :- Training error :  0.2011 ; Training accuracy :  91.7942% ; Validation error :  0.1921 ; Validation accuracy :  91.8935%\n",
      "Epoch 20 :- Training error :  0.1911 ; Training accuracy :  92.0942% ; Validation error :  0.1511 ; Validation accuracy :  93.9952%\n",
      "Epoch 21 :- Training error :  0.1862 ; Training accuracy :  92.2742% ; Validation error :  0.1437 ; Validation accuracy :  94.0753%\n",
      "Epoch 22 :- Training error :  0.1764 ; Training accuracy :  92.6193% ; Validation error :  0.1416 ; Validation accuracy :  94.0953%\n",
      "Epoch 23 :- Training error :  0.1732 ; Training accuracy :  92.8843% ; Validation error :  0.1298 ; Validation accuracy :  94.8359%\n",
      "Epoch 24 :- Training error :  0.1661 ; Training accuracy :  93.0893% ; Validation error :  0.1247 ; Validation accuracy :  94.9359%\n",
      "Epoch 25 :- Training error :  0.1599 ; Training accuracy :  93.5794% ; Validation error :  0.1226 ; Validation accuracy :  94.9359%\n",
      "Epoch 26 :- Training error :  0.1527 ; Training accuracy :  93.8544% ; Validation error :  0.1258 ; Validation accuracy :  95.0761%\n",
      "Epoch 27 :- Training error :  0.1468 ; Training accuracy :  93.9494% ; Validation error :  0.1206 ; Validation accuracy :  95.5965%\n",
      "Epoch 28 :- Training error :  0.1435 ; Training accuracy :  94.2794% ; Validation error :  0.1136 ; Validation accuracy :  95.6165%\n",
      "Epoch 29 :- Training error :  0.1451 ; Training accuracy :  94.2894% ; Validation error :  0.1203 ; Validation accuracy :  95.4964%\n",
      "Epoch 30 :- Training error :  0.1390 ; Training accuracy :  94.5145% ; Validation error :  0.1176 ; Validation accuracy :  95.5364%\n",
      "Epoch 31 :- Training error :  0.1374 ; Training accuracy :  94.3194% ; Validation error :  0.1044 ; Validation accuracy :  95.7566%\n",
      "Epoch 32 :- Training error :  0.1281 ; Training accuracy :  94.9345% ; Validation error :  0.1055 ; Validation accuracy :  96.1369%\n",
      "Epoch 33 :- Training error :  0.1283 ; Training accuracy :  94.8295% ; Validation error :  0.1051 ; Validation accuracy :  95.8967%\n",
      "Epoch 34 :- Training error :  0.1226 ; Training accuracy :  95.1195% ; Validation error :  0.1122 ; Validation accuracy :  95.5164%\n",
      "Epoch 35 :- Training error :  0.1179 ; Training accuracy :  95.2795% ; Validation error :  0.0985 ; Validation accuracy :  96.2170%\n",
      "Epoch 36 :- Training error :  0.1169 ; Training accuracy :  95.4045% ; Validation error :  0.1024 ; Validation accuracy :  95.8367%\n",
      "Epoch 37 :- Training error :  0.1127 ; Training accuracy :  95.4595% ; Validation error :  0.0954 ; Validation accuracy :  96.3371%\n",
      "Epoch 38 :- Training error :  0.1100 ; Training accuracy :  95.7446% ; Validation error :  0.0908 ; Validation accuracy :  96.6573%\n",
      "Epoch 39 :- Training error :  0.1132 ; Training accuracy :  95.6446% ; Validation error :  0.0869 ; Validation accuracy :  96.7174%\n",
      "Epoch 40 :- Training error :  0.1030 ; Training accuracy :  96.1346% ; Validation error :  0.0960 ; Validation accuracy :  96.0568%\n",
      "Epoch 41 :- Training error :  0.1016 ; Training accuracy :  96.0796% ; Validation error :  0.0957 ; Validation accuracy :  96.5773%\n",
      "Epoch 42 :- Training error :  0.1013 ; Training accuracy :  95.8946% ; Validation error :  0.0897 ; Validation accuracy :  96.5973%\n",
      "Epoch 43 :- Training error :  0.0951 ; Training accuracy :  96.2796% ; Validation error :  0.1173 ; Validation accuracy :  95.5364%\n",
      "Epoch 44 :- Training error :  0.0948 ; Training accuracy :  96.3746% ; Validation error :  0.0878 ; Validation accuracy :  96.7574%\n",
      "Stopping early due to no improvement\n"
     ]
    }
   ],
   "source": [
    "epochs = 70\n",
    "best_val_acc = 0\n",
    "epochs_list = []\n",
    "t_loss = []\n",
    "t_acc = []\n",
    "v_loss = []\n",
    "v_acc = []\n",
    "for epoch in range(epochs):\n",
    "    model.train()\n",
    "    train_loss = 0.0\n",
    "    t_correct = 0\n",
    "    t_total = 0\n",
    "    for data in train_loader:\n",
    "        inputs, labels = data\n",
    "        inputs = inputs.to(device)\n",
    "        labels = labels.to(device)\n",
    "        optimizer.zero_grad()\n",
    "        outputs = model(inputs)\n",
    "        _, predicted = torch.max(outputs.data, 1)\n",
    "        t_total += labels.size(0)\n",
    "        t_correct += (predicted == labels).sum().item()\n",
    "        loss = criterion(outputs, labels)\n",
    "        loss.backward()\n",
    "        optimizer.step()\n",
    "        train_loss += loss.item()\n",
    "    model.eval()\n",
    "    val_loss = 0.0\n",
    "    v_correct = 0\n",
    "    v_total = 0\n",
    "    for data in val_loader:\n",
    "        images, labels = data\n",
    "        images = images.to(device)\n",
    "        labels = labels.to(device)\n",
    "        outputs = model(images)\n",
    "        loss = criterion(outputs, labels)\n",
    "        val_loss += loss.item()\n",
    "        _, predicted = torch.max(outputs.data, 1)\n",
    "        v_total += labels.size(0)\n",
    "        v_correct += (predicted == labels).sum().item()\n",
    "    training_loss = train_loss/len(train_loader)\n",
    "    training_accuracy = (t_correct * 100)/t_total\n",
    "    validation_loss = val_loss/len(val_loader)\n",
    "    validation_accuracy = (v_correct * 100)/v_total\n",
    "    if validation_accuracy > best_val_acc:\n",
    "        best_val_acc = validation_accuracy\n",
    "        torch.save(model.state_dict(), 'cat_dog_classify.pth')\n",
    "    print(f\"Epoch {epoch + 1} :- Training error : {training_loss : .4f} ; Training accuracy : {training_accuracy : .4f}% ; Validation error : {validation_loss : .4f} ; Validation accuracy : {validation_accuracy : .4f}%\")\n",
    "    epochs_list.append(epoch + 1)\n",
    "    t_loss.append(training_loss)\n",
    "    v_loss.append(validation_loss)\n",
    "    t_acc.append(training_accuracy)\n",
    "    v_acc.append(validation_accuracy)\n",
    "    early_stopping.check_early_stop(validation_loss)\n",
    "    if early_stopping.stop_training:\n",
    "        break"
   ]
  },
  {
   "cell_type": "markdown",
   "id": "53e5c726",
   "metadata": {},
   "source": [
    "Plotting the Training and Validation accuracy with respect to the number of epochs"
   ]
  },
  {
   "cell_type": "code",
   "execution_count": 13,
   "id": "5815200b",
   "metadata": {},
   "outputs": [
    {
     "data": {
      "image/png": "[encoded data removed]",
      "text/plain": [
       "<Figure size 640x480 with 1 Axes>"
      ]
     },
     "metadata": {},
     "output_type": "display_data"
    }
   ],
   "source": [
    "plt.plot(epochs_list, t_acc, color = 'r', label = 'Training accuracy')\n",
    "plt.plot(epochs_list, v_acc, color = 'g', label = 'Validation accuracy')\n",
    "plt.legend()\n",
    "plt.title('Training and Validation Accuracy')\n",
    "plt.xlabel('Epochs')\n",
    "plt.ylabel('Accuracy')\n",
    "plt.show()"
   ]
  },
  {
   "cell_type": "markdown",
   "id": "8b44532c",
   "metadata": {},
   "source": [
    "Plotting the Training and Validation loss with respect to the number of epochs"
   ]
  },
  {
   "cell_type": "code",
   "execution_count": 14,
   "id": "1821f0ee",
   "metadata": {},
   "outputs": [
    {
     "data": {
      "image/png": "[encoded data removed]",
      "text/plain": [
       "<Figure size 640x480 with 1 Axes>"
      ]
     },
     "metadata": {},
     "output_type": "display_data"
    }
   ],
   "source": [
    "plt.plot(epochs_list, t_loss, color = 'r', label = 'Training loss')\n",
    "plt.plot(epochs_list, v_loss, color = 'g', label = 'Validation loss')\n",
    "plt.legend()\n",
    "plt.title('Training and Validation Loss')\n",
    "plt.xlabel('Epochs')\n",
    "plt.ylabel('Loss')\n",
    "plt.show()"
   ]
  },
  {
   "cell_type": "markdown",
   "id": "1ba36754",
   "metadata": {},
   "source": [
    "Testing the CNN Model"
   ]
  },
  {
   "cell_type": "code",
   "execution_count": 15,
   "id": "f249cc6a",
   "metadata": {},
   "outputs": [
    {
     "name": "stdout",
     "output_type": "stream",
     "text": [
      "Accuracy of the model is 94.94202319072372\n"
     ]
    }
   ],
   "source": [
    "correct = 0\n",
    "total = 0\n",
    "model.load_state_dict(torch.load('cat_dog_classify.pth'))\n",
    "model.eval()\n",
    "for data in test_loader:\n",
    "    images, labels = data\n",
    "    images = images.to(device)\n",
    "    labels = labels.to(device)\n",
    "    outputs = model(images)\n",
    "    _, predicted = torch.max(outputs.data, 1)\n",
    "    total += labels.size(0)\n",
    "    correct += (predicted == labels).sum().item()\n",
    "print(f\"Accuracy of the model is {(correct * 100)/total}\")"
   ]
  }
 ],
 "metadata": {
  "kernelspec": {
   "display_name": "Python 3",
   "language": "python",
   "name": "python3"
  },
  "language_info": {
   "codemirror_mode": {
    "name": "ipython",
    "version": 3
   },
   "file_extension": ".py",
   "mimetype": "text/x-python",
   "name": "python",
   "nbconvert_exporter": "python",
   "pygments_lexer": "ipython3",
   "version": "3.13.1"
  }
 },
 "nbformat": 4,
 "nbformat_minor": 5
}
